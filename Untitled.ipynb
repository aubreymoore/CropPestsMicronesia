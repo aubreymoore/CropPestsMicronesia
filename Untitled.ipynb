{
 "cells": [
  {
   "cell_type": "code",
   "execution_count": 28,
   "metadata": {
    "collapsed": false
   },
   "outputs": [],
   "source": [
    "#!pip install python-dwca-reader"
   ]
  },
  {
   "cell_type": "code",
   "execution_count": 29,
   "metadata": {
    "collapsed": false
   },
   "outputs": [
    {
     "name": "stdout",
     "output_type": "stream",
     "text": [
      "Core type is: http://rs.tdwg.org/dwc/terms/Taxon\n",
      "Locality term is not present.\n"
     ]
    },
    {
     "ename": "RowNotFound",
     "evalue": "",
     "output_type": "error",
     "traceback": [
      "\u001b[1;31m---------------------------------------------------------------------------\u001b[0m",
      "\u001b[1;31mRowNotFound\u001b[0m                               Traceback (most recent call last)",
      "\u001b[1;32m<ipython-input-29-815f4e83856e>\u001b[0m in \u001b[0;36m<module>\u001b[1;34m()\u001b[0m\n\u001b[0;32m     64\u001b[0m \u001b[1;33m\u001b[0m\u001b[0m\n\u001b[0;32m     65\u001b[0m     \u001b[1;31m# Or retrieve a specific row by its id:\u001b[0m\u001b[1;33m\u001b[0m\u001b[1;33m\u001b[0m\u001b[0m\n\u001b[1;32m---> 66\u001b[1;33m     \u001b[0moccurrence_number_three\u001b[0m \u001b[1;33m=\u001b[0m \u001b[0mdwca\u001b[0m\u001b[1;33m.\u001b[0m\u001b[0mget_row_by_id\u001b[0m\u001b[1;33m(\u001b[0m\u001b[1;36m3\u001b[0m\u001b[1;33m)\u001b[0m\u001b[1;33m\u001b[0m\u001b[0m\n\u001b[0m\u001b[0;32m     67\u001b[0m \u001b[1;33m\u001b[0m\u001b[0m\n\u001b[0;32m     68\u001b[0m     \u001b[1;31m# Caution: ids are generally a fragile way to identify a core row in an archive, since the standard dosn't guarantee unicity (nor even that there will be an id).\u001b[0m\u001b[1;33m\u001b[0m\u001b[1;33m\u001b[0m\u001b[0m\n",
      "\u001b[1;32m/home/aubreymoore/anaconda3/lib/python3.5/site-packages/dwca/read.py\u001b[0m in \u001b[0;36mget_row_by_id\u001b[1;34m(self, row_id)\u001b[0m\n\u001b[0;32m    156\u001b[0m                 \u001b[1;32mreturn\u001b[0m \u001b[0mrow\u001b[0m\u001b[1;33m\u001b[0m\u001b[0m\n\u001b[0;32m    157\u001b[0m         \u001b[1;32melse\u001b[0m\u001b[1;33m:\u001b[0m\u001b[1;33m\u001b[0m\u001b[0m\n\u001b[1;32m--> 158\u001b[1;33m             \u001b[1;32mraise\u001b[0m \u001b[0mRowNotFound\u001b[0m\u001b[1;33m\u001b[0m\u001b[0m\n\u001b[0m\u001b[0;32m    159\u001b[0m \u001b[1;33m\u001b[0m\u001b[0m\n\u001b[0;32m    160\u001b[0m     \u001b[1;32mdef\u001b[0m \u001b[0mget_row_by_index\u001b[0m\u001b[1;33m(\u001b[0m\u001b[0mself\u001b[0m\u001b[1;33m,\u001b[0m \u001b[0mindex\u001b[0m\u001b[1;33m)\u001b[0m\u001b[1;33m:\u001b[0m\u001b[1;33m\u001b[0m\u001b[0m\n",
      "\u001b[1;31mRowNotFound\u001b[0m: "
     ]
    }
   ],
   "source": [
    "from dwca.read import DwCAReader\n",
    "from dwca.darwincore.utils import qualname as qn\n",
    "\n",
    "# Let's open our archive...\n",
    "# Using the with statement ensure that resources will be properly freed/cleaned after use.\n",
    "with DwCAReader('dwca.zip') as dwca:\n",
    "    # We can now interact with the 'dwca' object\n",
    "\n",
    "    # We can read scientific metadata (EML) through a xml.etree.ElementTree.Element object in the 'metadata'\n",
    "    # attribute.\n",
    "    dwca.metadata\n",
    "\n",
    "    # The 'descriptor' attribute gives access to the Archive Descriptor (meta.xml) and allow\n",
    "    # inspecting the archive:\n",
    "    # For example, discover what the type the Core file is: (Occurrence, Taxon, ...)\n",
    "    print(\"Core type is: %s\" % dwca.descriptor.core.type)\n",
    "    # => Core type is: http://rs.tdwg.org/dwc/terms/Occurrence\n",
    "\n",
    "    # Check if a Darwin Core term in present in the core file\n",
    "    if 'http://rs.tdwg.org/dwc/terms/locality' in dwca.descriptor.core.terms:\n",
    "        print( \"This archive contains the 'locality' term in its core file.\")\n",
    "    else:\n",
    "        print( \"Locality term is not present.\")\n",
    "\n",
    "    # Using full qualnames for DarwincCore terms (such as 'http://rs.tdwg.org/dwc/terms/country') is verbose...\n",
    "    # The qualname() helper function make life easy for common terms.\n",
    "    # (here, it has been imported as 'qn'):\n",
    "    qn('locality')\n",
    "    # => u'http://rs.tdwg.org/dwc/terms/locality'\n",
    "\n",
    "    # Combined with previous examples, this can be used to things more clear:\n",
    "    # For example:\n",
    "    if qn('locality') in dwca.descriptor.core.terms:\n",
    "        pass\n",
    "\n",
    "    # Or:\n",
    "    if dwca.descriptor.core.type == qn('Occurrence'):\n",
    "        pass\n",
    "\n",
    "    # Finally, let's iterate over the archive core rows and get the data:\n",
    "    for row in dwca:\n",
    "        # row is an instance of CoreRow\n",
    "        # iteration respects their order of appearance in the core file\n",
    "\n",
    "        # Print can be used for debugging purposes...\n",
    "        print( row)\n",
    "\n",
    "        # => --\n",
    "        # => Rowtype: http://rs.tdwg.org/dwc/terms/Occurrence\n",
    "        # => Source: Core file\n",
    "        # => Row ID:\n",
    "        # => Data: {u'http://rs.tdwg.org/dwc/terms/basisOfRecord': u'Observation', u'http://rs.tdwg.org/dwc/terms/family': # => u'Tetraodontidae', u'http://rs.tdwg.org/dwc/terms/locality': u'Borneo', u'http://rs.tdwg.#\n",
    "        # => org/dwc/terms/scientificName': u'tetraodon fluviatilis'}\n",
    "        # => --\n",
    "\n",
    "        # You can get the value of a specific Darwin Core term through\n",
    "        # the \"data\" dict:\n",
    "        print( \"Value of 'locality' for this row: %s\" % row.data[qn('locality')])\n",
    "        # => Value of 'locality' for this row: Mumbai\n",
    "\n",
    "    # Alternatively, we can get a list of core rows instead of iterating:\n",
    "    # BEWARE: all rows will be loaded in memory!\n",
    "    rows = dwca.rows\n",
    "\n",
    "    # Or retrieve a specific row by its id:\n",
    "    occurrence_number_three = dwca.get_row_by_id(3)\n",
    "\n",
    "    # Caution: ids are generally a fragile way to identify a core row in an archive, since the standard dosn't guarantee unicity (nor even that there will be an id).\n",
    "    # the index (position) of the row (starting at 0) is generally preferable.\n",
    "\n",
    "    occurrence_on_second_line = dwca.get_row_by_index(1)\n",
    "\n",
    "    # We can retreive the (absolute) of embedded files\n",
    "    # NOTE: this path point to a temporary directory that will be removed at the end of the DwCAReader object life cycle.\n",
    "    path = dwca.absolute_temporary_path('occurrence.txt')\n",
    "\n"
   ]
  },
  {
   "cell_type": "code",
   "execution_count": null,
   "metadata": {
    "collapsed": false
   },
   "outputs": [],
   "source": [
    "row"
   ]
  },
  {
   "cell_type": "code",
   "execution_count": 40,
   "metadata": {
    "collapsed": false
   },
   "outputs": [
    {
     "name": "stdout",
     "output_type": "stream",
     "text": [
      "http://rs.gbif.org/terms/1.0/Distribution\n",
      "http://rs.gbif.org/terms/1.0/VernacularName\n",
      "http://rs.tdwg.org/dwc/terms/ResourceRelationship\n"
     ]
    },
    {
     "ename": "IndexError",
     "evalue": "list index out of range",
     "output_type": "error",
     "traceback": [
      "\u001b[1;31m---------------------------------------------------------------------------\u001b[0m",
      "\u001b[1;31mIndexError\u001b[0m                                Traceback (most recent call last)",
      "\u001b[1;32m<ipython-input-40-d4727f500dd5>\u001b[0m in \u001b[0;36m<module>\u001b[1;34m()\u001b[0m\n\u001b[0;32m      7\u001b[0m     \u001b[1;31m# => http://rs.gbif.org/terms/1.0/VernacularName\u001b[0m\u001b[1;33m\u001b[0m\u001b[1;33m\u001b[0m\u001b[0m\n\u001b[0;32m      8\u001b[0m \u001b[1;33m\u001b[0m\u001b[0m\n\u001b[1;32m----> 9\u001b[1;33m     \u001b[0mfirst_core_row\u001b[0m \u001b[1;33m=\u001b[0m \u001b[0mdwca\u001b[0m\u001b[1;33m.\u001b[0m\u001b[0mrows\u001b[0m\u001b[1;33m[\u001b[0m\u001b[1;36m0\u001b[0m\u001b[1;33m]\u001b[0m\u001b[1;33m\u001b[0m\u001b[0m\n\u001b[0m\u001b[0;32m     10\u001b[0m \u001b[1;33m\u001b[0m\u001b[0m\n\u001b[0;32m     11\u001b[0m     \u001b[1;31m# Extension rows are accessible from a core row as a list of ExtensionRow instances:\u001b[0m\u001b[1;33m\u001b[0m\u001b[1;33m\u001b[0m\u001b[0m\n",
      "\u001b[1;31mIndexError\u001b[0m: list index out of range"
     ]
    }
   ],
   "source": [
    "from dwca.read import DwCAReader\n",
    "\n",
    "with DwCAReader('dwca.zip') as dwca:\n",
    "    # Let's ask the archive what kind of extensions are in use:\n",
    "    for e in dwca.descriptor.extensions:\n",
    "        print( e.type)\n",
    "    # => http://rs.gbif.org/terms/1.0/VernacularName\n",
    "\n",
    "    first_core_row = dwca.rows[0]\n",
    "\n",
    "    # Extension rows are accessible from a core row as a list of ExtensionRow instances:\n",
    "    for extension_line in first_core_row.extensions:\n",
    "        # Display all rows from extension files reffering to the first Core row\n",
    "        print( extension_line)\n",
    "\n"
   ]
  },
  {
   "cell_type": "code",
   "execution_count": 43,
   "metadata": {
    "collapsed": false
   },
   "outputs": [
    {
     "name": "stdout",
     "output_type": "stream",
     "text": [
      "<function DwCAReader.absolute_temporary_path at 0x7fa71859d598>\n"
     ]
    }
   ],
   "source": []
  },
  {
   "cell_type": "code",
   "execution_count": null,
   "metadata": {
    "collapsed": false
   },
   "outputs": [],
   "source": [
    "from dwca.read import DwCAReader\n",
    "\n",
    "with DwCAReader('dwca.zip') as dwca:\n",
    "    rows = dwca.rows\n",
    "    ostrich = rows[0]\n",
    "\n",
    "    print( \"You'll find below all extensions rows reffering to Ostrich\")\n",
    "    print( \"There should be 3 vernacular names and 2 taxon description\")\n",
    "    for ext in ostrich.extensions:\n",
    "        print( ext)\n",
    "\n",
    "    print( \"We can then simply filter by type...\")\n",
    "    for ext in ostrich.extensions:\n",
    "        if ext.rowtype == 'http://rs.gbif.org/terms/1.0/VernacularName':\n",
    "            print( ext)"
   ]
  },
  {
   "cell_type": "code",
   "execution_count": 39,
   "metadata": {
    "collapsed": false
   },
   "outputs": [
    {
     "ename": "TypeError",
     "evalue": "'list' object is not callable",
     "output_type": "error",
     "traceback": [
      "\u001b[1;31m---------------------------------------------------------------------------\u001b[0m",
      "\u001b[1;31mTypeError\u001b[0m                                 Traceback (most recent call last)",
      "\u001b[1;32m<ipython-input-39-0a5b13b6ced3>\u001b[0m in \u001b[0;36m<module>\u001b[1;34m()\u001b[0m\n\u001b[0;32m      1\u001b[0m \u001b[1;32mfrom\u001b[0m \u001b[0mdwca\u001b[0m\u001b[1;33m.\u001b[0m\u001b[0mread\u001b[0m \u001b[1;32mimport\u001b[0m \u001b[0mDwCAReader\u001b[0m\u001b[1;33m\u001b[0m\u001b[0m\n\u001b[0;32m      2\u001b[0m \u001b[0mdwca\u001b[0m \u001b[1;33m=\u001b[0m \u001b[0mDwCAReader\u001b[0m\u001b[1;33m(\u001b[0m\u001b[1;34m'dwca.zip'\u001b[0m\u001b[1;33m)\u001b[0m\u001b[1;33m\u001b[0m\u001b[0m\n\u001b[1;32m----> 3\u001b[1;33m \u001b[0mdwca\u001b[0m\u001b[1;33m.\u001b[0m\u001b[0mrows\u001b[0m\u001b[1;33m(\u001b[0m\u001b[1;33m)\u001b[0m\u001b[1;33m\u001b[0m\u001b[0m\n\u001b[0m",
      "\u001b[1;31mTypeError\u001b[0m: 'list' object is not callable"
     ]
    }
   ],
   "source": [
    "from dwca.read import DwCAReader\n",
    "dwca = DwCAReader('dwca.zip')\n",
    "dwca.rows"
   ]
  },
  {
   "cell_type": "code",
   "execution_count": 37,
   "metadata": {
    "collapsed": false
   },
   "outputs": [
    {
     "data": {
      "text/plain": [
       "['__class__',\n",
       " '__delattr__',\n",
       " '__dict__',\n",
       " '__dir__',\n",
       " '__doc__',\n",
       " '__enter__',\n",
       " '__eq__',\n",
       " '__exit__',\n",
       " '__format__',\n",
       " '__ge__',\n",
       " '__getattribute__',\n",
       " '__gt__',\n",
       " '__hash__',\n",
       " '__init__',\n",
       " '__iter__',\n",
       " '__le__',\n",
       " '__lt__',\n",
       " '__module__',\n",
       " '__ne__',\n",
       " '__new__',\n",
       " '__next__',\n",
       " '__reduce__',\n",
       " '__reduce_ex__',\n",
       " '__repr__',\n",
       " '__setattr__',\n",
       " '__sizeof__',\n",
       " '__str__',\n",
       " '__subclasshook__',\n",
       " '__weakref__',\n",
       " '_cleanup_temporary_dir',\n",
       " '_corefile',\n",
       " '_directory_to_clean',\n",
       " '_extensionfiles',\n",
       " '_extract',\n",
       " '_is_valid_simple_archive',\n",
       " '_parse_metadata_file',\n",
       " '_parse_xml_included_file',\n",
       " '_unzip_or_untar',\n",
       " '_workin_directory_path',\n",
       " 'absolute_temporary_path',\n",
       " 'archive_path',\n",
       " 'close',\n",
       " 'core_contains_term',\n",
       " 'descriptor',\n",
       " 'get_row_by_id',\n",
       " 'get_row_by_index',\n",
       " 'metadata',\n",
       " 'next',\n",
       " 'open_included_file',\n",
       " 'rows',\n",
       " 'source_metadata',\n",
       " 'use_extensions']"
      ]
     },
     "execution_count": 37,
     "metadata": {},
     "output_type": "execute_result"
    }
   ],
   "source": [
    "dir(dwca)"
   ]
  },
  {
   "cell_type": "code",
   "execution_count": null,
   "metadata": {
    "collapsed": true
   },
   "outputs": [],
   "source": []
  }
 ],
 "metadata": {
  "kernelspec": {
   "display_name": "Python 3",
   "language": "python",
   "name": "python3"
  },
  "language_info": {
   "codemirror_mode": {
    "name": "ipython",
    "version": 3
   },
   "file_extension": ".py",
   "mimetype": "text/x-python",
   "name": "python",
   "nbconvert_exporter": "python",
   "pygments_lexer": "ipython3",
   "version": "3.5.2"
  }
 },
 "nbformat": 4,
 "nbformat_minor": 0
}
