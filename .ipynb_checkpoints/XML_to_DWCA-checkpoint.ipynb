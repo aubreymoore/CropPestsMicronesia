{
 "cells": [
  {
   "cell_type": "code",
   "execution_count": 1,
   "metadata": {
    "collapsed": false
   },
   "outputs": [],
   "source": [
    "from lxml import etree\n",
    "import pandas as pd\n",
    "from uuid import uuid4"
   ]
  },
  {
   "cell_type": "code",
   "execution_count": 2,
   "metadata": {
    "collapsed": false
   },
   "outputs": [],
   "source": [
    "# Limit number of rows in dataframe display\n",
    "pd.options.display.max_rows = 10"
   ]
  },
  {
   "cell_type": "code",
   "execution_count": 3,
   "metadata": {
    "collapsed": false
   },
   "outputs": [],
   "source": [
    "doc = etree.parse('list.xml')"
   ]
  },
  {
   "cell_type": "markdown",
   "metadata": {},
   "source": [
    "### Build Taxon table"
   ]
  },
  {
   "cell_type": "code",
   "execution_count": 4,
   "metadata": {
    "collapsed": true
   },
   "outputs": [],
   "source": [
    "def getTaxonRank(scientificName):\n",
    "    word_count = len(scientificName.split(' '))\n",
    "    if word_count == 1:\n",
    "        return('genus')\n",
    "    else:\n",
    "        return('species')"
   ]
  },
  {
   "cell_type": "code",
   "execution_count": 5,
   "metadata": {
    "collapsed": false,
    "scrolled": true
   },
   "outputs": [],
   "source": [
    "taxon_list = []\n",
    "for section in doc.iterfind('section'):\n",
    "    scientificName = section.findtext('crop/sci')\n",
    "    taxonRank = getTaxonRank(scientificName)\n",
    "    taxon_list.append({'kingdom':'Plantae',\n",
    "                       'scientificName': scientificName,\n",
    "                       'taxonRank': taxonRank\n",
    "                      })\n",
    "    for pest in section.iterfind('pest'):\n",
    "        scientificName = pest.findtext('sci')\n",
    "        taxonRank = getTaxonRank(scientificName)\n",
    "        taxon_list.append({'kingdom':'Animalia',\n",
    "                           'scientificName': scientificName,\n",
    "                           'taxonRank': taxonRank\n",
    "                          })\n",
    "df_taxon = pd.DataFrame(taxon_list)\n",
    "df_taxon = df_taxon.drop_duplicates()"
   ]
  },
  {
   "cell_type": "code",
   "execution_count": 6,
   "metadata": {
    "collapsed": false,
    "scrolled": true
   },
   "outputs": [
    {
     "data": {
      "text/html": [
       "<div>\n",
       "<table border=\"1\" class=\"dataframe\">\n",
       "  <thead>\n",
       "    <tr style=\"text-align: right;\">\n",
       "      <th></th>\n",
       "      <th>uuid</th>\n",
       "      <th>scientificName</th>\n",
       "      <th>taxonRank</th>\n",
       "      <th>kingdom</th>\n",
       "    </tr>\n",
       "  </thead>\n",
       "  <tbody>\n",
       "    <tr>\n",
       "      <th>0</th>\n",
       "      <td>ea2d6c59bf1a424bb9b685dec70af400</td>\n",
       "      <td>Agave sisalana</td>\n",
       "      <td>species</td>\n",
       "      <td>Plantae</td>\n",
       "    </tr>\n",
       "    <tr>\n",
       "      <th>1</th>\n",
       "      <td>45a08215eaee43639815b155e2c34d6b</td>\n",
       "      <td>Aonidiella orientalis</td>\n",
       "      <td>species</td>\n",
       "      <td>Animalia</td>\n",
       "    </tr>\n",
       "    <tr>\n",
       "      <th>2</th>\n",
       "      <td>ebb8f69dba3f4ae0b489c0a6ea902e7c</td>\n",
       "      <td>Dysmicoccus neobrevipes</td>\n",
       "      <td>species</td>\n",
       "      <td>Animalia</td>\n",
       "    </tr>\n",
       "    <tr>\n",
       "      <th>3</th>\n",
       "      <td>289954c303b24b89854770770ce7ad9b</td>\n",
       "      <td>Persea americana</td>\n",
       "      <td>species</td>\n",
       "      <td>Plantae</td>\n",
       "    </tr>\n",
       "    <tr>\n",
       "      <th>4</th>\n",
       "      <td>5de35f74bc5a43c9a1b3aa8a6d87ece1</td>\n",
       "      <td>Trigonops</td>\n",
       "      <td>genus</td>\n",
       "      <td>Animalia</td>\n",
       "    </tr>\n",
       "    <tr>\n",
       "      <th>...</th>\n",
       "      <td>...</td>\n",
       "      <td>...</td>\n",
       "      <td>...</td>\n",
       "      <td>...</td>\n",
       "    </tr>\n",
       "    <tr>\n",
       "      <th>981</th>\n",
       "      <td>630d484ac704415eaccb4785896a7c4d</td>\n",
       "      <td>Anua coronata</td>\n",
       "      <td>species</td>\n",
       "      <td>Animalia</td>\n",
       "    </tr>\n",
       "    <tr>\n",
       "      <th>983</th>\n",
       "      <td>3b223a621dc9465ab19547a1df3422e9</td>\n",
       "      <td>Psophocarpus tetragonalubus</td>\n",
       "      <td>species</td>\n",
       "      <td>Plantae</td>\n",
       "    </tr>\n",
       "    <tr>\n",
       "      <th>984</th>\n",
       "      <td>d4bb59a4b9e144d2897ca0b0fe3c8c79</td>\n",
       "      <td>Tetranychus neocaledonicus</td>\n",
       "      <td>species</td>\n",
       "      <td>Animalia</td>\n",
       "    </tr>\n",
       "    <tr>\n",
       "      <th>986</th>\n",
       "      <td>320e647a76e341498d82ff67ade9cb13</td>\n",
       "      <td>Dioscorea</td>\n",
       "      <td>genus</td>\n",
       "      <td>Plantae</td>\n",
       "    </tr>\n",
       "    <tr>\n",
       "      <th>993</th>\n",
       "      <td>d505a104a42c4fea879a628f1d6c68f1</td>\n",
       "      <td>Theretra nessus</td>\n",
       "      <td>species</td>\n",
       "      <td>Animalia</td>\n",
       "    </tr>\n",
       "  </tbody>\n",
       "</table>\n",
       "<p>398 rows × 4 columns</p>\n",
       "</div>"
      ],
      "text/plain": [
       "                                 uuid               scientificName taxonRank  \\\n",
       "0    ea2d6c59bf1a424bb9b685dec70af400               Agave sisalana   species   \n",
       "1    45a08215eaee43639815b155e2c34d6b        Aonidiella orientalis   species   \n",
       "2    ebb8f69dba3f4ae0b489c0a6ea902e7c      Dysmicoccus neobrevipes   species   \n",
       "3    289954c303b24b89854770770ce7ad9b             Persea americana   species   \n",
       "4    5de35f74bc5a43c9a1b3aa8a6d87ece1                    Trigonops     genus   \n",
       "..                                ...                          ...       ...   \n",
       "981  630d484ac704415eaccb4785896a7c4d                Anua coronata   species   \n",
       "983  3b223a621dc9465ab19547a1df3422e9  Psophocarpus tetragonalubus   species   \n",
       "984  d4bb59a4b9e144d2897ca0b0fe3c8c79   Tetranychus neocaledonicus   species   \n",
       "986  320e647a76e341498d82ff67ade9cb13                    Dioscorea     genus   \n",
       "993  d505a104a42c4fea879a628f1d6c68f1              Theretra nessus   species   \n",
       "\n",
       "      kingdom  \n",
       "0     Plantae  \n",
       "1    Animalia  \n",
       "2    Animalia  \n",
       "3     Plantae  \n",
       "4    Animalia  \n",
       "..        ...  \n",
       "981  Animalia  \n",
       "983   Plantae  \n",
       "984  Animalia  \n",
       "986   Plantae  \n",
       "993  Animalia  \n",
       "\n",
       "[398 rows x 4 columns]"
      ]
     },
     "execution_count": 6,
     "metadata": {},
     "output_type": "execute_result"
    }
   ],
   "source": [
    "if not ('uuid' in df_taxon.columns):\n",
    "    df_taxon['uuid'] = None\n",
    "    for index, row in df_taxon.iterrows():\n",
    "        row['uuid'] = uuid4().hex\n",
    "else:\n",
    "    print('uuid column already exists')\n",
    "\n",
    "df_taxon = df_taxon[['uuid', 'scientificName', 'taxonRank', 'kingdom']]\n",
    "df_taxon"
   ]
  },
  {
   "cell_type": "code",
   "execution_count": 7,
   "metadata": {
    "collapsed": false,
    "scrolled": true
   },
   "outputs": [
    {
     "data": {
      "text/plain": [
       "'d9c464146fa644379b00e4d8e1f5d825'"
      ]
     },
     "execution_count": 7,
     "metadata": {},
     "output_type": "execute_result"
    }
   ],
   "source": [
    "def get_ID(scientificName):\n",
    "    ''' Returns the ID associated with a scintificName in the taxon table.'''\n",
    "    x = df_taxon[df_taxon['scientificName'] == scientificName]['uuid']\n",
    "    return(x.values[0])\n",
    "\n",
    "get_ID('Badamia exclamationis')"
   ]
  },
  {
   "cell_type": "markdown",
   "metadata": {},
   "source": [
    "### Build Distribution Table\n",
    "\n",
    "Island records are encoded as follows:\n",
    "\n",
    "List of insects and mites attacking crops in the Caroline (Belau-B, Yap-Y, Truk-T, Pohnpei-Po, Kosrae-K) and Mariana Islands (Guam-G, Saipan-S, Rota-R, and Commonwealth of Northern Marianas-C). New island records are indicated by n. Y indicates confirmation of a species previously reported as maybe present or needs verification. A ? indicates that the species may be there but its presence has not been verified with absolute certainty."
   ]
  },
  {
   "cell_type": "code",
   "execution_count": 8,
   "metadata": {
    "collapsed": false
   },
   "outputs": [
    {
     "name": "stdout",
     "output_type": "stream",
     "text": [
      "Saipan: new_island_record=False\n",
      "Tinian: new_island_record=False\n",
      "Rota: new_island_record=False\n",
      "Guam: new_island_record=False\n"
     ]
    }
   ],
   "source": [
    "# This dictionary decodes island codes.\n",
    "\n",
    "island_dict = {\n",
    "    'M=?':[{'i':'Mariana Islands','n':False}],\n",
    "    'M=C':[{'i':'Saipan','n':False},{'i':'Tinian','n':False},{'i':'Rota','n':False}],\n",
    "    'M=G':[{'i':'Guam','n':False}],\n",
    "    'M=RG':[{'i':'Guam','n':False},{'i':'Rota','n':False}],\n",
    "    'M=S':[{'i':'Saipan','n':False}],\n",
    "    'M=n':[{'i':'Saipan','n':True},{'i':'Tinian','n':True},{'i':'Rota','n':True},{'i':'Guam','n':True}],\n",
    "    'M=x':[{'i':'Saipan','n':False},{'i':'Tinian','n':False},{'i':'Rota','n':False},{'i':'Guam','n':False}],\n",
    "    'B=?':[{'i':'Republic of Palau','n':False}],\n",
    "    'B=n':[{'i':'Republic of Palau','n':True}],\n",
    "    'B=x':[{'i':'Republic of Palau','n':False}],\n",
    "    'K=?':[{'i':'Kosrae State','n':False}],\n",
    "    'K=n':[{'i':'Kosrae State','n':True}],\n",
    "    'K=x':[{'i':'Kosrae State','n':False}], \n",
    "    'P=?':[{'i':'Pohnpei State','n':False}],\n",
    "    'P=n':[{'i':'Pohnpei State','n':True}],\n",
    "    'P=x':[{'i':'Pohnpei State','n':False}],\n",
    "    'T=?':[{'i':'Chuuk State','n':False}],\n",
    "    'T=Y':[{'i':'Chuuk State','n':False}],\n",
    "    'T=n':[{'i':'Chuuk State','n':True}],\n",
    "    'T=x':[{'i':'Chuuk State','n':False}],\n",
    "    'Y=?':[{'i':'Yap State','n':False}],\n",
    "    'Y=n':[{'i':'Yap State','n':True}],\n",
    "    'Y=x':[{'i':'Yap State','n':False}],\n",
    "} \n",
    "\n",
    "island_code = 'M=x'\n",
    "mylist = island_dict[island_code]\n",
    "for item in mylist: \n",
    "    print('{}: new_island_record={}'.format(item['i'], item['n']))"
   ]
  },
  {
   "cell_type": "code",
   "execution_count": 9,
   "metadata": {
    "collapsed": false
   },
   "outputs": [
    {
     "data": {
      "text/html": [
       "<div>\n",
       "<table border=\"1\" class=\"dataframe\">\n",
       "  <thead>\n",
       "    <tr style=\"text-align: right;\">\n",
       "      <th></th>\n",
       "      <th>uuid</th>\n",
       "      <th>locality</th>\n",
       "      <th>occurrenceRemarks</th>\n",
       "    </tr>\n",
       "  </thead>\n",
       "  <tbody>\n",
       "    <tr>\n",
       "      <th>0</th>\n",
       "      <td>45a08215eaee43639815b155e2c34d6b</td>\n",
       "      <td>Yap State</td>\n",
       "      <td></td>\n",
       "    </tr>\n",
       "    <tr>\n",
       "      <th>1</th>\n",
       "      <td>45a08215eaee43639815b155e2c34d6b</td>\n",
       "      <td>Saipan</td>\n",
       "      <td></td>\n",
       "    </tr>\n",
       "    <tr>\n",
       "      <th>2</th>\n",
       "      <td>45a08215eaee43639815b155e2c34d6b</td>\n",
       "      <td>Tinian</td>\n",
       "      <td></td>\n",
       "    </tr>\n",
       "    <tr>\n",
       "      <th>3</th>\n",
       "      <td>45a08215eaee43639815b155e2c34d6b</td>\n",
       "      <td>Rota</td>\n",
       "      <td></td>\n",
       "    </tr>\n",
       "    <tr>\n",
       "      <th>4</th>\n",
       "      <td>45a08215eaee43639815b155e2c34d6b</td>\n",
       "      <td>Guam</td>\n",
       "      <td></td>\n",
       "    </tr>\n",
       "    <tr>\n",
       "      <th>...</th>\n",
       "      <td>...</td>\n",
       "      <td>...</td>\n",
       "      <td>...</td>\n",
       "    </tr>\n",
       "    <tr>\n",
       "      <th>4575</th>\n",
       "      <td>630d484ac704415eaccb4785896a7c4d</td>\n",
       "      <td>Guam</td>\n",
       "      <td></td>\n",
       "    </tr>\n",
       "    <tr>\n",
       "      <th>4584</th>\n",
       "      <td>d4bb59a4b9e144d2897ca0b0fe3c8c79</td>\n",
       "      <td>Guam</td>\n",
       "      <td></td>\n",
       "    </tr>\n",
       "    <tr>\n",
       "      <th>4634</th>\n",
       "      <td>d505a104a42c4fea879a628f1d6c68f1</td>\n",
       "      <td>Republic of Palau</td>\n",
       "      <td></td>\n",
       "    </tr>\n",
       "    <tr>\n",
       "      <th>4635</th>\n",
       "      <td>d505a104a42c4fea879a628f1d6c68f1</td>\n",
       "      <td>Yap State</td>\n",
       "      <td></td>\n",
       "    </tr>\n",
       "    <tr>\n",
       "      <th>4636</th>\n",
       "      <td>d505a104a42c4fea879a628f1d6c68f1</td>\n",
       "      <td>Chuuk State</td>\n",
       "      <td></td>\n",
       "    </tr>\n",
       "  </tbody>\n",
       "</table>\n",
       "<p>1304 rows × 3 columns</p>\n",
       "</div>"
      ],
      "text/plain": [
       "                                  uuid           locality occurrenceRemarks\n",
       "0     45a08215eaee43639815b155e2c34d6b          Yap State                  \n",
       "1     45a08215eaee43639815b155e2c34d6b             Saipan                  \n",
       "2     45a08215eaee43639815b155e2c34d6b             Tinian                  \n",
       "3     45a08215eaee43639815b155e2c34d6b               Rota                  \n",
       "4     45a08215eaee43639815b155e2c34d6b               Guam                  \n",
       "...                                ...                ...               ...\n",
       "4575  630d484ac704415eaccb4785896a7c4d               Guam                  \n",
       "4584  d4bb59a4b9e144d2897ca0b0fe3c8c79               Guam                  \n",
       "4634  d505a104a42c4fea879a628f1d6c68f1  Republic of Palau                  \n",
       "4635  d505a104a42c4fea879a628f1d6c68f1          Yap State                  \n",
       "4636  d505a104a42c4fea879a628f1d6c68f1        Chuuk State                  \n",
       "\n",
       "[1304 rows x 3 columns]"
      ]
     },
     "execution_count": 9,
     "metadata": {},
     "output_type": "execute_result"
    }
   ],
   "source": [
    "dist_list = []\n",
    "for section in doc.iterfind('section'):\n",
    "    for pest in section.iterfind('pest'):\n",
    "        scientificName = pest.findtext('sci')\n",
    "        island_codes = pest.findall('island')\n",
    "        for island_code in island_codes:\n",
    "            island_list = island_dict[island_code.text]\n",
    "            for item in island_list:\n",
    "                if item['n']:\n",
    "                    new_island_record = 'new island record'\n",
    "                else:\n",
    "                    new_island_record = ''\n",
    "                dist_list.append({'scientificName': scientificName, \n",
    "                                  'locality': item['i'],\n",
    "                                  'occurrenceRemarks': new_island_record,\n",
    "                                  'uuid': get_ID(scientificName)\n",
    "                             })\n",
    "df_dist = pd.DataFrame(dist_list)\n",
    "df_dist = df_dist.drop_duplicates()\n",
    "df_dist = df_dist[['uuid', 'locality', 'occurrenceRemarks']]\n",
    "df_dist"
   ]
  },
  {
   "cell_type": "markdown",
   "metadata": {},
   "source": [
    "### Build Vernacular table"
   ]
  },
  {
   "cell_type": "code",
   "execution_count": 10,
   "metadata": {
    "collapsed": false,
    "scrolled": true
   },
   "outputs": [
    {
     "data": {
      "text/html": [
       "<div>\n",
       "<table border=\"1\" class=\"dataframe\">\n",
       "  <thead>\n",
       "    <tr style=\"text-align: right;\">\n",
       "      <th></th>\n",
       "      <th>uuid</th>\n",
       "      <th>vernacularName</th>\n",
       "    </tr>\n",
       "  </thead>\n",
       "  <tbody>\n",
       "    <tr>\n",
       "      <th>0</th>\n",
       "      <td>ea2d6c59bf1a424bb9b685dec70af400</td>\n",
       "      <td>Agave</td>\n",
       "    </tr>\n",
       "    <tr>\n",
       "      <th>1</th>\n",
       "      <td>45a08215eaee43639815b155e2c34d6b</td>\n",
       "      <td>oriental scale</td>\n",
       "    </tr>\n",
       "    <tr>\n",
       "      <th>2</th>\n",
       "      <td>ebb8f69dba3f4ae0b489c0a6ea902e7c</td>\n",
       "      <td>grey pineapple mealybug</td>\n",
       "    </tr>\n",
       "    <tr>\n",
       "      <th>3</th>\n",
       "      <td>289954c303b24b89854770770ce7ad9b</td>\n",
       "      <td>Avocado</td>\n",
       "    </tr>\n",
       "    <tr>\n",
       "      <th>4</th>\n",
       "      <td>5de35f74bc5a43c9a1b3aa8a6d87ece1</td>\n",
       "      <td>weevil</td>\n",
       "    </tr>\n",
       "    <tr>\n",
       "      <th>...</th>\n",
       "      <td>...</td>\n",
       "      <td>...</td>\n",
       "    </tr>\n",
       "    <tr>\n",
       "      <th>1122</th>\n",
       "      <td>630d484ac704415eaccb4785896a7c4d</td>\n",
       "      <td>moth</td>\n",
       "    </tr>\n",
       "    <tr>\n",
       "      <th>1124</th>\n",
       "      <td>3b223a621dc9465ab19547a1df3422e9</td>\n",
       "      <td>Wing bean</td>\n",
       "    </tr>\n",
       "    <tr>\n",
       "      <th>1125</th>\n",
       "      <td>d4bb59a4b9e144d2897ca0b0fe3c8c79</td>\n",
       "      <td>vegetable mite</td>\n",
       "    </tr>\n",
       "    <tr>\n",
       "      <th>1127</th>\n",
       "      <td>320e647a76e341498d82ff67ade9cb13</td>\n",
       "      <td>Yams</td>\n",
       "    </tr>\n",
       "    <tr>\n",
       "      <th>1134</th>\n",
       "      <td>d505a104a42c4fea879a628f1d6c68f1</td>\n",
       "      <td>yam hawk moth</td>\n",
       "    </tr>\n",
       "  </tbody>\n",
       "</table>\n",
       "<p>406 rows × 2 columns</p>\n",
       "</div>"
      ],
      "text/plain": [
       "                                  uuid           vernacularName\n",
       "0     ea2d6c59bf1a424bb9b685dec70af400                    Agave\n",
       "1     45a08215eaee43639815b155e2c34d6b           oriental scale\n",
       "2     ebb8f69dba3f4ae0b489c0a6ea902e7c  grey pineapple mealybug\n",
       "3     289954c303b24b89854770770ce7ad9b                  Avocado\n",
       "4     5de35f74bc5a43c9a1b3aa8a6d87ece1                   weevil\n",
       "...                                ...                      ...\n",
       "1122  630d484ac704415eaccb4785896a7c4d                     moth\n",
       "1124  3b223a621dc9465ab19547a1df3422e9                Wing bean\n",
       "1125  d4bb59a4b9e144d2897ca0b0fe3c8c79           vegetable mite\n",
       "1127  320e647a76e341498d82ff67ade9cb13                     Yams\n",
       "1134  d505a104a42c4fea879a628f1d6c68f1            yam hawk moth\n",
       "\n",
       "[406 rows x 2 columns]"
      ]
     },
     "execution_count": 10,
     "metadata": {},
     "output_type": "execute_result"
    }
   ],
   "source": [
    "vernacular_list = []\n",
    "for section in doc.iterfind('section'):\n",
    "    scientificName = section.findtext('crop/sci')\n",
    "    common_names = section.findall('crop/com')\n",
    "    for common_name in common_names:\n",
    "        vernacular_list.append({'scientificName': scientificName, \n",
    "                                'vernacularName': common_name.text,\n",
    "                                'uuid': get_ID(scientificName)\n",
    "                               })    \n",
    "        for pest in section.iterfind('pest'):\n",
    "            scientificName = pest.findtext('sci')\n",
    "            common_names = pest.findall('com')\n",
    "            for common_name in common_names:\n",
    "                vernacular_list.append({'scientificName': scientificName,\n",
    "                                        'vernacularName': common_name.text,\n",
    "                                        'uuid': get_ID(scientificName)\n",
    "                                       })    \n",
    "df_vernacular = pd.DataFrame(vernacular_list)\n",
    "df_vernacular = df_vernacular.drop_duplicates()\n",
    "df_vernacular = df_vernacular[['uuid', 'vernacularName']]\n",
    "df_vernacular"
   ]
  },
  {
   "cell_type": "markdown",
   "metadata": {},
   "source": [
    "### Build ecological associates table\n",
    "\n",
    "Note that this table has to be searched twice to discover all interactions for a taxon."
   ]
  },
  {
   "cell_type": "code",
   "execution_count": 11,
   "metadata": {
    "collapsed": false,
    "scrolled": true
   },
   "outputs": [
    {
     "data": {
      "text/html": [
       "<div>\n",
       "<table border=\"1\" class=\"dataframe\">\n",
       "  <thead>\n",
       "    <tr style=\"text-align: right;\">\n",
       "      <th></th>\n",
       "      <th>uuid</th>\n",
       "      <th>relationshipOfAssociate</th>\n",
       "      <th>relatedResourceID</th>\n",
       "    </tr>\n",
       "  </thead>\n",
       "  <tbody>\n",
       "    <tr>\n",
       "      <th>0</th>\n",
       "      <td>ea2d6c59bf1a424bb9b685dec70af400</td>\n",
       "      <td>host plant of</td>\n",
       "      <td>45a08215eaee43639815b155e2c34d6b</td>\n",
       "    </tr>\n",
       "    <tr>\n",
       "      <th>1</th>\n",
       "      <td>45a08215eaee43639815b155e2c34d6b</td>\n",
       "      <td>herbivore of</td>\n",
       "      <td>ea2d6c59bf1a424bb9b685dec70af400</td>\n",
       "    </tr>\n",
       "    <tr>\n",
       "      <th>2</th>\n",
       "      <td>ea2d6c59bf1a424bb9b685dec70af400</td>\n",
       "      <td>host plant of</td>\n",
       "      <td>ebb8f69dba3f4ae0b489c0a6ea902e7c</td>\n",
       "    </tr>\n",
       "    <tr>\n",
       "      <th>3</th>\n",
       "      <td>ebb8f69dba3f4ae0b489c0a6ea902e7c</td>\n",
       "      <td>herbivore of</td>\n",
       "      <td>ea2d6c59bf1a424bb9b685dec70af400</td>\n",
       "    </tr>\n",
       "    <tr>\n",
       "      <th>4</th>\n",
       "      <td>289954c303b24b89854770770ce7ad9b</td>\n",
       "      <td>host plant of</td>\n",
       "      <td>5de35f74bc5a43c9a1b3aa8a6d87ece1</td>\n",
       "    </tr>\n",
       "    <tr>\n",
       "      <th>...</th>\n",
       "      <td>...</td>\n",
       "      <td>...</td>\n",
       "      <td>...</td>\n",
       "    </tr>\n",
       "    <tr>\n",
       "      <th>1893</th>\n",
       "      <td>1b3a62f9f4434a13a702d96a7528d844</td>\n",
       "      <td>herbivore of</td>\n",
       "      <td>320e647a76e341498d82ff67ade9cb13</td>\n",
       "    </tr>\n",
       "    <tr>\n",
       "      <th>1894</th>\n",
       "      <td>320e647a76e341498d82ff67ade9cb13</td>\n",
       "      <td>host plant of</td>\n",
       "      <td>1a5da002959a477cba193377ce02bca3</td>\n",
       "    </tr>\n",
       "    <tr>\n",
       "      <th>1895</th>\n",
       "      <td>1a5da002959a477cba193377ce02bca3</td>\n",
       "      <td>herbivore of</td>\n",
       "      <td>320e647a76e341498d82ff67ade9cb13</td>\n",
       "    </tr>\n",
       "    <tr>\n",
       "      <th>1896</th>\n",
       "      <td>320e647a76e341498d82ff67ade9cb13</td>\n",
       "      <td>host plant of</td>\n",
       "      <td>b92ce6aca29448a7b910b5159851223a</td>\n",
       "    </tr>\n",
       "    <tr>\n",
       "      <th>1897</th>\n",
       "      <td>b92ce6aca29448a7b910b5159851223a</td>\n",
       "      <td>herbivore of</td>\n",
       "      <td>320e647a76e341498d82ff67ade9cb13</td>\n",
       "    </tr>\n",
       "  </tbody>\n",
       "</table>\n",
       "<p>1868 rows × 3 columns</p>\n",
       "</div>"
      ],
      "text/plain": [
       "                                  uuid relationshipOfAssociate  \\\n",
       "0     ea2d6c59bf1a424bb9b685dec70af400           host plant of   \n",
       "1     45a08215eaee43639815b155e2c34d6b            herbivore of   \n",
       "2     ea2d6c59bf1a424bb9b685dec70af400           host plant of   \n",
       "3     ebb8f69dba3f4ae0b489c0a6ea902e7c            herbivore of   \n",
       "4     289954c303b24b89854770770ce7ad9b           host plant of   \n",
       "...                                ...                     ...   \n",
       "1893  1b3a62f9f4434a13a702d96a7528d844            herbivore of   \n",
       "1894  320e647a76e341498d82ff67ade9cb13           host plant of   \n",
       "1895  1a5da002959a477cba193377ce02bca3            herbivore of   \n",
       "1896  320e647a76e341498d82ff67ade9cb13           host plant of   \n",
       "1897  b92ce6aca29448a7b910b5159851223a            herbivore of   \n",
       "\n",
       "                     relatedResourceID  \n",
       "0     45a08215eaee43639815b155e2c34d6b  \n",
       "1     ea2d6c59bf1a424bb9b685dec70af400  \n",
       "2     ebb8f69dba3f4ae0b489c0a6ea902e7c  \n",
       "3     ea2d6c59bf1a424bb9b685dec70af400  \n",
       "4     5de35f74bc5a43c9a1b3aa8a6d87ece1  \n",
       "...                                ...  \n",
       "1893  320e647a76e341498d82ff67ade9cb13  \n",
       "1894  1a5da002959a477cba193377ce02bca3  \n",
       "1895  320e647a76e341498d82ff67ade9cb13  \n",
       "1896  b92ce6aca29448a7b910b5159851223a  \n",
       "1897  320e647a76e341498d82ff67ade9cb13  \n",
       "\n",
       "[1868 rows x 3 columns]"
      ]
     },
     "execution_count": 11,
     "metadata": {},
     "output_type": "execute_result"
    }
   ],
   "source": [
    "associates_list = []\n",
    "for section in doc.iterfind('section'):\n",
    "    scientificName1 = section.findtext('crop/sci')\n",
    "    for pest in section.iterfind('pest'):\n",
    "        scientificName2 = pest.findtext('sci')\n",
    "        associates_list.append({'uuid': get_ID(scientificName1),\n",
    "                                'relatedResourceID': get_ID(scientificName2),\n",
    "                                'relationshipOfAssociate': 'host plant of',\n",
    "                               })\n",
    "        associates_list.append({'uuid': get_ID(scientificName2),\n",
    "                                'relatedResourceID': get_ID(scientificName1),\n",
    "                                'relationshipOfAssociate': 'herbivore of'\n",
    "                               })\n",
    "\n",
    "df_associates = pd.DataFrame(associates_list)\n",
    "df_associates = df_associates.drop_duplicates()\n",
    "df_associates = df_associates[['uuid', 'relationshipOfAssociate', 'relatedResourceID']]\n",
    "df_associates"
   ]
  },
  {
   "cell_type": "markdown",
   "metadata": {},
   "source": [
    "### Save Data Frames as CSV Files"
   ]
  },
  {
   "cell_type": "code",
   "execution_count": 12,
   "metadata": {
    "collapsed": false
   },
   "outputs": [],
   "source": [
    "import os\n",
    "\n",
    "if not os.path.exists('dwca'):\n",
    "    os.makedirs('dwca')\n",
    "df_taxon.to_csv('dwca/dwcaTaxon.csv', index=False)\n",
    "df_dist.to_csv('dwca/dwcaDistribution.csv', index=False)\n",
    "df_vernacular.to_csv('dwca/dwcaVernacular.csv', index=False)\n",
    "df_associates.to_csv('dwca/dwcaResourceRelationship.csv', index=False)"
   ]
  },
  {
   "cell_type": "markdown",
   "metadata": {
    "collapsed": false
   },
   "source": [
    "### Create Darwin Core Archive\n",
    "The archive, **dwca**, can be validated at http://tools.gbif.org/dwca-validator/"
   ]
  },
  {
   "cell_type": "code",
   "execution_count": 13,
   "metadata": {
    "collapsed": false
   },
   "outputs": [
    {
     "name": "stdout",
     "output_type": "stream",
     "text": [
      "updating: dwca/ (stored 0%)\r\n",
      "updating: dwca/taxon.csv (deflated 54%)\r\n",
      "updating: dwca/distribution.csv (deflated 80%)\r\n",
      "updating: dwca/associates.csv (deflated 89%)\r\n",
      "updating: dwca/vernacular.csv (deflated 46%)\r\n",
      "updating: dwca/meta.xml (deflated 76%)\r\n",
      "  adding: dwca/dwcaTaxon.csv (deflated 54%)\r\n",
      "  adding: dwca/dwcaResourceRelationship.csv (deflated 89%)\r\n",
      "  adding: dwca/dwcaVernacular.csv (deflated 46%)\r\n",
      "  adding: dwca/dwcaDistribution.csv (deflated 80%)\r\n"
     ]
    }
   ],
   "source": [
    "!zip -r dwca.zip dwca"
   ]
  },
  {
   "cell_type": "code",
   "execution_count": null,
   "metadata": {
    "collapsed": true
   },
   "outputs": [],
   "source": []
  }
 ],
 "metadata": {
  "kernelspec": {
   "display_name": "Python 3",
   "language": "python",
   "name": "python3"
  },
  "language_info": {
   "codemirror_mode": {
    "name": "ipython",
    "version": 3
   },
   "file_extension": ".py",
   "mimetype": "text/x-python",
   "name": "python",
   "nbconvert_exporter": "python",
   "pygments_lexer": "ipython3",
   "version": "3.5.2"
  }
 },
 "nbformat": 4,
 "nbformat_minor": 0
}
