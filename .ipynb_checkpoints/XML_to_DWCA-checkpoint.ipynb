{
 "cells": [
  {
   "cell_type": "code",
   "execution_count": 1,
   "metadata": {
    "collapsed": false
   },
   "outputs": [],
   "source": [
    "from lxml import etree\n",
    "import pandas as pd\n",
    "from uuid import uuid4"
   ]
  },
  {
   "cell_type": "code",
   "execution_count": 2,
   "metadata": {
    "collapsed": false
   },
   "outputs": [],
   "source": [
    "# Limit number of rows in dataframe display\n",
    "pd.options.display.max_rows = 10"
   ]
  },
  {
   "cell_type": "code",
   "execution_count": 3,
   "metadata": {
    "collapsed": false
   },
   "outputs": [],
   "source": [
    "doc = etree.parse('list.xml')"
   ]
  },
  {
   "cell_type": "markdown",
   "metadata": {},
   "source": [
    "### Build Taxon table"
   ]
  },
  {
   "cell_type": "code",
   "execution_count": 4,
   "metadata": {
    "collapsed": true
   },
   "outputs": [],
   "source": [
    "def getTaxonRank(scientificName):\n",
    "    word_count = len(scientificName.split(' '))\n",
    "    if word_count == 1:\n",
    "        return('genus')\n",
    "    else:\n",
    "        return('species')"
   ]
  },
  {
   "cell_type": "code",
   "execution_count": 5,
   "metadata": {
    "collapsed": false,
    "scrolled": true
   },
   "outputs": [],
   "source": [
    "taxon_list = []\n",
    "for section in doc.iterfind('section'):\n",
    "    scientificName = section.findtext('crop/sci')\n",
    "    taxonRank = getTaxonRank(scientificName)\n",
    "    taxon_list.append({'kingdom':'Plantae',\n",
    "                       'scientificName': scientificName,\n",
    "                       'taxonRank': taxonRank\n",
    "                      })\n",
    "    for pest in section.iterfind('pest'):\n",
    "        scientificName = pest.findtext('sci')\n",
    "        taxonRank = getTaxonRank(scientificName)\n",
    "        taxon_list.append({'kingdom':'Animalia',\n",
    "                           'scientificName': scientificName,\n",
    "                           'taxonRank': taxonRank\n",
    "                          })\n",
    "df_taxon = pd.DataFrame(taxon_list)\n",
    "df_taxon = df_taxon.drop_duplicates()"
   ]
  },
  {
   "cell_type": "code",
   "execution_count": 6,
   "metadata": {
    "collapsed": false,
    "scrolled": true
   },
   "outputs": [
    {
     "data": {
      "text/html": [
       "<div>\n",
       "<table border=\"1\" class=\"dataframe\">\n",
       "  <thead>\n",
       "    <tr style=\"text-align: right;\">\n",
       "      <th></th>\n",
       "      <th>ID</th>\n",
       "      <th>scientificName</th>\n",
       "      <th>taxonRank</th>\n",
       "      <th>kingdom</th>\n",
       "    </tr>\n",
       "  </thead>\n",
       "  <tbody>\n",
       "    <tr>\n",
       "      <th>0</th>\n",
       "      <td>876f6d22b15d4396be2b760bf415c955</td>\n",
       "      <td>Agave sisalana</td>\n",
       "      <td>species</td>\n",
       "      <td>Plantae</td>\n",
       "    </tr>\n",
       "    <tr>\n",
       "      <th>1</th>\n",
       "      <td>17c201c8da1847929a10109237aab0f4</td>\n",
       "      <td>Aonidiella orientalis</td>\n",
       "      <td>species</td>\n",
       "      <td>Animalia</td>\n",
       "    </tr>\n",
       "    <tr>\n",
       "      <th>2</th>\n",
       "      <td>311cf11008e54e33a9259ed045b47b23</td>\n",
       "      <td>Dysmicoccus neobrevipes</td>\n",
       "      <td>species</td>\n",
       "      <td>Animalia</td>\n",
       "    </tr>\n",
       "    <tr>\n",
       "      <th>3</th>\n",
       "      <td>66bd6c0b2d4c4a5e98eed112a44bc291</td>\n",
       "      <td>Persea americana</td>\n",
       "      <td>species</td>\n",
       "      <td>Plantae</td>\n",
       "    </tr>\n",
       "    <tr>\n",
       "      <th>4</th>\n",
       "      <td>1e02c9c91085410092b1dcfa20c2be82</td>\n",
       "      <td>Trigonops</td>\n",
       "      <td>genus</td>\n",
       "      <td>Animalia</td>\n",
       "    </tr>\n",
       "    <tr>\n",
       "      <th>...</th>\n",
       "      <td>...</td>\n",
       "      <td>...</td>\n",
       "      <td>...</td>\n",
       "      <td>...</td>\n",
       "    </tr>\n",
       "    <tr>\n",
       "      <th>981</th>\n",
       "      <td>d306d95564c148a6ac36c0b50eb41b75</td>\n",
       "      <td>Anua coronata</td>\n",
       "      <td>species</td>\n",
       "      <td>Animalia</td>\n",
       "    </tr>\n",
       "    <tr>\n",
       "      <th>983</th>\n",
       "      <td>7e42fff30b2d4ab6bf2109478641ad14</td>\n",
       "      <td>Psophocarpus tetragonalubus</td>\n",
       "      <td>species</td>\n",
       "      <td>Plantae</td>\n",
       "    </tr>\n",
       "    <tr>\n",
       "      <th>984</th>\n",
       "      <td>338d8f3eb2404e4390c745a62c6cfbab</td>\n",
       "      <td>Tetranychus neocaledonicus</td>\n",
       "      <td>species</td>\n",
       "      <td>Animalia</td>\n",
       "    </tr>\n",
       "    <tr>\n",
       "      <th>986</th>\n",
       "      <td>019b64c3980c443c8bb814d94f6b1857</td>\n",
       "      <td>Dioscorea</td>\n",
       "      <td>genus</td>\n",
       "      <td>Plantae</td>\n",
       "    </tr>\n",
       "    <tr>\n",
       "      <th>993</th>\n",
       "      <td>22cd5092082b4ba99c8fc7baf1edc54c</td>\n",
       "      <td>Theretra nessus</td>\n",
       "      <td>species</td>\n",
       "      <td>Animalia</td>\n",
       "    </tr>\n",
       "  </tbody>\n",
       "</table>\n",
       "<p>398 rows × 4 columns</p>\n",
       "</div>"
      ],
      "text/plain": [
       "                                   ID               scientificName taxonRank  \\\n",
       "0    876f6d22b15d4396be2b760bf415c955               Agave sisalana   species   \n",
       "1    17c201c8da1847929a10109237aab0f4        Aonidiella orientalis   species   \n",
       "2    311cf11008e54e33a9259ed045b47b23      Dysmicoccus neobrevipes   species   \n",
       "3    66bd6c0b2d4c4a5e98eed112a44bc291             Persea americana   species   \n",
       "4    1e02c9c91085410092b1dcfa20c2be82                    Trigonops     genus   \n",
       "..                                ...                          ...       ...   \n",
       "981  d306d95564c148a6ac36c0b50eb41b75                Anua coronata   species   \n",
       "983  7e42fff30b2d4ab6bf2109478641ad14  Psophocarpus tetragonalubus   species   \n",
       "984  338d8f3eb2404e4390c745a62c6cfbab   Tetranychus neocaledonicus   species   \n",
       "986  019b64c3980c443c8bb814d94f6b1857                    Dioscorea     genus   \n",
       "993  22cd5092082b4ba99c8fc7baf1edc54c              Theretra nessus   species   \n",
       "\n",
       "      kingdom  \n",
       "0     Plantae  \n",
       "1    Animalia  \n",
       "2    Animalia  \n",
       "3     Plantae  \n",
       "4    Animalia  \n",
       "..        ...  \n",
       "981  Animalia  \n",
       "983   Plantae  \n",
       "984  Animalia  \n",
       "986   Plantae  \n",
       "993  Animalia  \n",
       "\n",
       "[398 rows x 4 columns]"
      ]
     },
     "execution_count": 6,
     "metadata": {},
     "output_type": "execute_result"
    }
   ],
   "source": [
    "'''\n",
    "kingdom: kingdom - col 0\n",
    "scientificName: scientificName - col 1\n",
    "taxonRank: taxonRank - col 2\n",
    "ID: ID col 3\n",
    "'''\n",
    "\n",
    "if not ('ID' in df_taxon.columns):\n",
    "    df_taxon['ID'] = None\n",
    "    for index, row in df_taxon.iterrows():\n",
    "        row['ID'] = uuid4().hex\n",
    "else:\n",
    "    print('ID column already exists')\n",
    "\n",
    "df_taxon = df_taxon[['ID', 'scientificName', 'taxonRank', 'kingdom']]\n",
    "df_taxon"
   ]
  },
  {
   "cell_type": "code",
   "execution_count": 7,
   "metadata": {
    "collapsed": false,
    "scrolled": true
   },
   "outputs": [
    {
     "data": {
      "text/plain": [
       "'14c9c8febc92492eb371bfc56491e33b'"
      ]
     },
     "execution_count": 7,
     "metadata": {},
     "output_type": "execute_result"
    }
   ],
   "source": [
    "def get_ID(scientificName):\n",
    "    ''' Returns the ID associated with a scintificName in the taxon table.'''\n",
    "    x = df_taxon[df_taxon['scientificName'] == scientificName]['ID']\n",
    "    return(x.values[0])\n",
    "\n",
    "get_ID('Badamia exclamationis')"
   ]
  },
  {
   "cell_type": "markdown",
   "metadata": {},
   "source": [
    "### Build Distribution Table\n",
    "\n",
    "Island records are encoded as follows:\n",
    "\n",
    "List of insects and mites attacking crops in the Caroline (Belau-B, Yap-Y, Truk-T, Pohnpei-Po, Kosrae-K) and Mariana Islands (Guam-G, Saipan-S, Rota-R, and Commonwealth of Northern Marianas-C). New island records are indicated by n. Y indicates confirmation of a species previously reported as maybe present or needs verification. A ? indicates that the species may be there but its presence has not been verified with absolute certainty."
   ]
  },
  {
   "cell_type": "code",
   "execution_count": 8,
   "metadata": {
    "collapsed": false
   },
   "outputs": [
    {
     "name": "stdout",
     "output_type": "stream",
     "text": [
      "Saipan: new_island_record=False\n",
      "Tinian: new_island_record=False\n",
      "Rota: new_island_record=False\n",
      "Guam: new_island_record=False\n"
     ]
    }
   ],
   "source": [
    "# This dictionary decodes island codes.\n",
    "\n",
    "island_dict = {\n",
    "    'M=?':[{'i':'Mariana Islands','n':False}],\n",
    "    'M=C':[{'i':'Saipan','n':False},{'i':'Tinian','n':False},{'i':'Rota','n':False}],\n",
    "    'M=G':[{'i':'Guam','n':False}],\n",
    "    'M=RG':[{'i':'Guam','n':False},{'i':'Rota','n':False}],\n",
    "    'M=S':[{'i':'Saipan','n':False}],\n",
    "    'M=n':[{'i':'Saipan','n':True},{'i':'Tinian','n':True},{'i':'Rota','n':True},{'i':'Guam','n':True}],\n",
    "    'M=x':[{'i':'Saipan','n':False},{'i':'Tinian','n':False},{'i':'Rota','n':False},{'i':'Guam','n':False}],\n",
    "    'B=?':[{'i':'Republic of Palau','n':False}],\n",
    "    'B=n':[{'i':'Republic of Palau','n':True}],\n",
    "    'B=x':[{'i':'Republic of Palau','n':False}],\n",
    "    'K=?':[{'i':'Kosrae State','n':False}],\n",
    "    'K=n':[{'i':'Kosrae State','n':True}],\n",
    "    'K=x':[{'i':'Kosrae State','n':False}], \n",
    "    'P=?':[{'i':'Pohnpei State','n':False}],\n",
    "    'P=n':[{'i':'Pohnpei State','n':True}],\n",
    "    'P=x':[{'i':'Pohnpei State','n':False}],\n",
    "    'T=?':[{'i':'Chuuk State','n':False}],\n",
    "    'T=Y':[{'i':'Chuuk State','n':False}],\n",
    "    'T=n':[{'i':'Chuuk State','n':True}],\n",
    "    'T=x':[{'i':'Chuuk State','n':False}],\n",
    "    'Y=?':[{'i':'Yap State','n':False}],\n",
    "    'Y=n':[{'i':'Yap State','n':True}],\n",
    "    'Y=x':[{'i':'Yap State','n':False}],\n",
    "} \n",
    "\n",
    "island_code = 'M=x'\n",
    "mylist = island_dict[island_code]\n",
    "for item in mylist: \n",
    "    print('{}: new_island_record={}'.format(item['i'], item['n']))"
   ]
  },
  {
   "cell_type": "code",
   "execution_count": 9,
   "metadata": {
    "collapsed": false
   },
   "outputs": [
    {
     "data": {
      "text/html": [
       "<div>\n",
       "<table border=\"1\" class=\"dataframe\">\n",
       "  <thead>\n",
       "    <tr style=\"text-align: right;\">\n",
       "      <th></th>\n",
       "      <th>ID</th>\n",
       "      <th>island</th>\n",
       "      <th>new_island_record</th>\n",
       "    </tr>\n",
       "  </thead>\n",
       "  <tbody>\n",
       "    <tr>\n",
       "      <th>0</th>\n",
       "      <td>17c201c8da1847929a10109237aab0f4</td>\n",
       "      <td>Yap State</td>\n",
       "      <td></td>\n",
       "    </tr>\n",
       "    <tr>\n",
       "      <th>1</th>\n",
       "      <td>17c201c8da1847929a10109237aab0f4</td>\n",
       "      <td>Saipan</td>\n",
       "      <td></td>\n",
       "    </tr>\n",
       "    <tr>\n",
       "      <th>2</th>\n",
       "      <td>17c201c8da1847929a10109237aab0f4</td>\n",
       "      <td>Tinian</td>\n",
       "      <td></td>\n",
       "    </tr>\n",
       "    <tr>\n",
       "      <th>3</th>\n",
       "      <td>17c201c8da1847929a10109237aab0f4</td>\n",
       "      <td>Rota</td>\n",
       "      <td></td>\n",
       "    </tr>\n",
       "    <tr>\n",
       "      <th>4</th>\n",
       "      <td>17c201c8da1847929a10109237aab0f4</td>\n",
       "      <td>Guam</td>\n",
       "      <td></td>\n",
       "    </tr>\n",
       "    <tr>\n",
       "      <th>...</th>\n",
       "      <td>...</td>\n",
       "      <td>...</td>\n",
       "      <td>...</td>\n",
       "    </tr>\n",
       "    <tr>\n",
       "      <th>4575</th>\n",
       "      <td>d306d95564c148a6ac36c0b50eb41b75</td>\n",
       "      <td>Guam</td>\n",
       "      <td></td>\n",
       "    </tr>\n",
       "    <tr>\n",
       "      <th>4584</th>\n",
       "      <td>338d8f3eb2404e4390c745a62c6cfbab</td>\n",
       "      <td>Guam</td>\n",
       "      <td></td>\n",
       "    </tr>\n",
       "    <tr>\n",
       "      <th>4634</th>\n",
       "      <td>22cd5092082b4ba99c8fc7baf1edc54c</td>\n",
       "      <td>Republic of Palau</td>\n",
       "      <td></td>\n",
       "    </tr>\n",
       "    <tr>\n",
       "      <th>4635</th>\n",
       "      <td>22cd5092082b4ba99c8fc7baf1edc54c</td>\n",
       "      <td>Yap State</td>\n",
       "      <td></td>\n",
       "    </tr>\n",
       "    <tr>\n",
       "      <th>4636</th>\n",
       "      <td>22cd5092082b4ba99c8fc7baf1edc54c</td>\n",
       "      <td>Chuuk State</td>\n",
       "      <td></td>\n",
       "    </tr>\n",
       "  </tbody>\n",
       "</table>\n",
       "<p>1304 rows × 3 columns</p>\n",
       "</div>"
      ],
      "text/plain": [
       "                                    ID             island new_island_record\n",
       "0     17c201c8da1847929a10109237aab0f4          Yap State                  \n",
       "1     17c201c8da1847929a10109237aab0f4             Saipan                  \n",
       "2     17c201c8da1847929a10109237aab0f4             Tinian                  \n",
       "3     17c201c8da1847929a10109237aab0f4               Rota                  \n",
       "4     17c201c8da1847929a10109237aab0f4               Guam                  \n",
       "...                                ...                ...               ...\n",
       "4575  d306d95564c148a6ac36c0b50eb41b75               Guam                  \n",
       "4584  338d8f3eb2404e4390c745a62c6cfbab               Guam                  \n",
       "4634  22cd5092082b4ba99c8fc7baf1edc54c  Republic of Palau                  \n",
       "4635  22cd5092082b4ba99c8fc7baf1edc54c          Yap State                  \n",
       "4636  22cd5092082b4ba99c8fc7baf1edc54c        Chuuk State                  \n",
       "\n",
       "[1304 rows x 3 columns]"
      ]
     },
     "execution_count": 9,
     "metadata": {},
     "output_type": "execute_result"
    }
   ],
   "source": [
    "'''\n",
    "ID: Core ID - col 0\n",
    "island: locality - col 1\n",
    "new_island_record: occurrenceRemarks - col 2\n",
    "scientificName: skip - col 3\n",
    "'''\n",
    "\n",
    "dist_list = []\n",
    "for section in doc.iterfind('section'):\n",
    "    for pest in section.iterfind('pest'):\n",
    "        scientificName = pest.findtext('sci')\n",
    "        island_codes = pest.findall('island')\n",
    "        for island_code in island_codes:\n",
    "            island_list = island_dict[island_code.text]\n",
    "            for item in island_list:\n",
    "                if item['n']:\n",
    "                    new_island_record = 'new island record'\n",
    "                else:\n",
    "                    new_island_record = ''\n",
    "                dist_list.append({'scientificName': scientificName, \n",
    "                                  'island': item['i'],\n",
    "                                  'new_island_record': new_island_record,\n",
    "                                  'ID': get_ID(scientificName)\n",
    "                             })\n",
    "df_dist = pd.DataFrame(dist_list)\n",
    "df_dist = df_dist.drop_duplicates()\n",
    "df_dist = df_dist[['ID', 'island', 'new_island_record']]\n",
    "df_dist"
   ]
  },
  {
   "cell_type": "markdown",
   "metadata": {},
   "source": [
    "### Build Vernacular table"
   ]
  },
  {
   "cell_type": "code",
   "execution_count": 10,
   "metadata": {
    "collapsed": false,
    "scrolled": true
   },
   "outputs": [
    {
     "data": {
      "text/html": [
       "<div>\n",
       "<table border=\"1\" class=\"dataframe\">\n",
       "  <thead>\n",
       "    <tr style=\"text-align: right;\">\n",
       "      <th></th>\n",
       "      <th>ID</th>\n",
       "      <th>vernacular</th>\n",
       "    </tr>\n",
       "  </thead>\n",
       "  <tbody>\n",
       "    <tr>\n",
       "      <th>0</th>\n",
       "      <td>876f6d22b15d4396be2b760bf415c955</td>\n",
       "      <td>Agave</td>\n",
       "    </tr>\n",
       "    <tr>\n",
       "      <th>1</th>\n",
       "      <td>17c201c8da1847929a10109237aab0f4</td>\n",
       "      <td>oriental scale</td>\n",
       "    </tr>\n",
       "    <tr>\n",
       "      <th>2</th>\n",
       "      <td>311cf11008e54e33a9259ed045b47b23</td>\n",
       "      <td>grey pineapple mealybug</td>\n",
       "    </tr>\n",
       "    <tr>\n",
       "      <th>3</th>\n",
       "      <td>66bd6c0b2d4c4a5e98eed112a44bc291</td>\n",
       "      <td>Avocado</td>\n",
       "    </tr>\n",
       "    <tr>\n",
       "      <th>4</th>\n",
       "      <td>1e02c9c91085410092b1dcfa20c2be82</td>\n",
       "      <td>weevil</td>\n",
       "    </tr>\n",
       "    <tr>\n",
       "      <th>...</th>\n",
       "      <td>...</td>\n",
       "      <td>...</td>\n",
       "    </tr>\n",
       "    <tr>\n",
       "      <th>1122</th>\n",
       "      <td>d306d95564c148a6ac36c0b50eb41b75</td>\n",
       "      <td>moth</td>\n",
       "    </tr>\n",
       "    <tr>\n",
       "      <th>1124</th>\n",
       "      <td>7e42fff30b2d4ab6bf2109478641ad14</td>\n",
       "      <td>Wing bean</td>\n",
       "    </tr>\n",
       "    <tr>\n",
       "      <th>1125</th>\n",
       "      <td>338d8f3eb2404e4390c745a62c6cfbab</td>\n",
       "      <td>vegetable mite</td>\n",
       "    </tr>\n",
       "    <tr>\n",
       "      <th>1127</th>\n",
       "      <td>019b64c3980c443c8bb814d94f6b1857</td>\n",
       "      <td>Yams</td>\n",
       "    </tr>\n",
       "    <tr>\n",
       "      <th>1134</th>\n",
       "      <td>22cd5092082b4ba99c8fc7baf1edc54c</td>\n",
       "      <td>yam hawk moth</td>\n",
       "    </tr>\n",
       "  </tbody>\n",
       "</table>\n",
       "<p>406 rows × 2 columns</p>\n",
       "</div>"
      ],
      "text/plain": [
       "                                    ID               vernacular\n",
       "0     876f6d22b15d4396be2b760bf415c955                    Agave\n",
       "1     17c201c8da1847929a10109237aab0f4           oriental scale\n",
       "2     311cf11008e54e33a9259ed045b47b23  grey pineapple mealybug\n",
       "3     66bd6c0b2d4c4a5e98eed112a44bc291                  Avocado\n",
       "4     1e02c9c91085410092b1dcfa20c2be82                   weevil\n",
       "...                                ...                      ...\n",
       "1122  d306d95564c148a6ac36c0b50eb41b75                     moth\n",
       "1124  7e42fff30b2d4ab6bf2109478641ad14                Wing bean\n",
       "1125  338d8f3eb2404e4390c745a62c6cfbab           vegetable mite\n",
       "1127  019b64c3980c443c8bb814d94f6b1857                     Yams\n",
       "1134  22cd5092082b4ba99c8fc7baf1edc54c            yam hawk moth\n",
       "\n",
       "[406 rows x 2 columns]"
      ]
     },
     "execution_count": 10,
     "metadata": {},
     "output_type": "execute_result"
    }
   ],
   "source": [
    "'''\n",
    "ID: Core ID - col 0\n",
    "scientificName: skip - col 1\n",
    "vernacular: vernacularName - col 2\n",
    "'''\n",
    "\n",
    "vernacular_list = []\n",
    "for section in doc.iterfind('section'):\n",
    "    scientificName = section.findtext('crop/sci')\n",
    "    common_names = section.findall('crop/com')\n",
    "    for common_name in common_names:\n",
    "        vernacular_list.append({'scientificName': scientificName, \n",
    "                                'vernacular': common_name.text,\n",
    "                                'ID': get_ID(scientificName)\n",
    "                               })    \n",
    "        for pest in section.iterfind('pest'):\n",
    "            scientificName = pest.findtext('sci')\n",
    "            common_names = pest.findall('com')\n",
    "            for common_name in common_names:\n",
    "                vernacular_list.append({'scientificName': scientificName,\n",
    "                                        'vernacular': common_name.text,\n",
    "                                        'ID': get_ID(scientificName)\n",
    "                                       })    \n",
    "df_vernacular = pd.DataFrame(vernacular_list)\n",
    "df_vernacular = df_vernacular.drop_duplicates()\n",
    "df_vernacular = df_vernacular[['ID', 'vernacular']]\n",
    "df_vernacular"
   ]
  },
  {
   "cell_type": "markdown",
   "metadata": {},
   "source": [
    "### Build ecological associates table\n",
    "\n",
    "Note that this table has to be searched twice to discover all interactions for a taxon."
   ]
  },
  {
   "cell_type": "code",
   "execution_count": 11,
   "metadata": {
    "collapsed": false,
    "scrolled": true
   },
   "outputs": [
    {
     "data": {
      "text/html": [
       "<div>\n",
       "<table border=\"1\" class=\"dataframe\">\n",
       "  <thead>\n",
       "    <tr style=\"text-align: right;\">\n",
       "      <th></th>\n",
       "      <th>sciNameID</th>\n",
       "      <th>relationshipOfAssociate</th>\n",
       "      <th>associateSciNameID</th>\n",
       "    </tr>\n",
       "  </thead>\n",
       "  <tbody>\n",
       "    <tr>\n",
       "      <th>0</th>\n",
       "      <td>876f6d22b15d4396be2b760bf415c955</td>\n",
       "      <td>host plant of</td>\n",
       "      <td>17c201c8da1847929a10109237aab0f4</td>\n",
       "    </tr>\n",
       "    <tr>\n",
       "      <th>1</th>\n",
       "      <td>17c201c8da1847929a10109237aab0f4</td>\n",
       "      <td>herbivore of</td>\n",
       "      <td>876f6d22b15d4396be2b760bf415c955</td>\n",
       "    </tr>\n",
       "    <tr>\n",
       "      <th>2</th>\n",
       "      <td>876f6d22b15d4396be2b760bf415c955</td>\n",
       "      <td>host plant of</td>\n",
       "      <td>311cf11008e54e33a9259ed045b47b23</td>\n",
       "    </tr>\n",
       "    <tr>\n",
       "      <th>3</th>\n",
       "      <td>311cf11008e54e33a9259ed045b47b23</td>\n",
       "      <td>herbivore of</td>\n",
       "      <td>876f6d22b15d4396be2b760bf415c955</td>\n",
       "    </tr>\n",
       "    <tr>\n",
       "      <th>4</th>\n",
       "      <td>66bd6c0b2d4c4a5e98eed112a44bc291</td>\n",
       "      <td>host plant of</td>\n",
       "      <td>1e02c9c91085410092b1dcfa20c2be82</td>\n",
       "    </tr>\n",
       "    <tr>\n",
       "      <th>...</th>\n",
       "      <td>...</td>\n",
       "      <td>...</td>\n",
       "      <td>...</td>\n",
       "    </tr>\n",
       "    <tr>\n",
       "      <th>1893</th>\n",
       "      <td>bebd50d2a13e4cd5891a1d3c548449f1</td>\n",
       "      <td>herbivore of</td>\n",
       "      <td>019b64c3980c443c8bb814d94f6b1857</td>\n",
       "    </tr>\n",
       "    <tr>\n",
       "      <th>1894</th>\n",
       "      <td>019b64c3980c443c8bb814d94f6b1857</td>\n",
       "      <td>host plant of</td>\n",
       "      <td>57d9164cbfdb43e8835a72e9a7dd4573</td>\n",
       "    </tr>\n",
       "    <tr>\n",
       "      <th>1895</th>\n",
       "      <td>57d9164cbfdb43e8835a72e9a7dd4573</td>\n",
       "      <td>herbivore of</td>\n",
       "      <td>019b64c3980c443c8bb814d94f6b1857</td>\n",
       "    </tr>\n",
       "    <tr>\n",
       "      <th>1896</th>\n",
       "      <td>019b64c3980c443c8bb814d94f6b1857</td>\n",
       "      <td>host plant of</td>\n",
       "      <td>064cc43b42124fab9eec2aeb2ce20ef1</td>\n",
       "    </tr>\n",
       "    <tr>\n",
       "      <th>1897</th>\n",
       "      <td>064cc43b42124fab9eec2aeb2ce20ef1</td>\n",
       "      <td>herbivore of</td>\n",
       "      <td>019b64c3980c443c8bb814d94f6b1857</td>\n",
       "    </tr>\n",
       "  </tbody>\n",
       "</table>\n",
       "<p>1868 rows × 3 columns</p>\n",
       "</div>"
      ],
      "text/plain": [
       "                             sciNameID relationshipOfAssociate  \\\n",
       "0     876f6d22b15d4396be2b760bf415c955           host plant of   \n",
       "1     17c201c8da1847929a10109237aab0f4            herbivore of   \n",
       "2     876f6d22b15d4396be2b760bf415c955           host plant of   \n",
       "3     311cf11008e54e33a9259ed045b47b23            herbivore of   \n",
       "4     66bd6c0b2d4c4a5e98eed112a44bc291           host plant of   \n",
       "...                                ...                     ...   \n",
       "1893  bebd50d2a13e4cd5891a1d3c548449f1            herbivore of   \n",
       "1894  019b64c3980c443c8bb814d94f6b1857           host plant of   \n",
       "1895  57d9164cbfdb43e8835a72e9a7dd4573            herbivore of   \n",
       "1896  019b64c3980c443c8bb814d94f6b1857           host plant of   \n",
       "1897  064cc43b42124fab9eec2aeb2ce20ef1            herbivore of   \n",
       "\n",
       "                    associateSciNameID  \n",
       "0     17c201c8da1847929a10109237aab0f4  \n",
       "1     876f6d22b15d4396be2b760bf415c955  \n",
       "2     311cf11008e54e33a9259ed045b47b23  \n",
       "3     876f6d22b15d4396be2b760bf415c955  \n",
       "4     1e02c9c91085410092b1dcfa20c2be82  \n",
       "...                                ...  \n",
       "1893  019b64c3980c443c8bb814d94f6b1857  \n",
       "1894  57d9164cbfdb43e8835a72e9a7dd4573  \n",
       "1895  019b64c3980c443c8bb814d94f6b1857  \n",
       "1896  064cc43b42124fab9eec2aeb2ce20ef1  \n",
       "1897  019b64c3980c443c8bb814d94f6b1857  \n",
       "\n",
       "[1868 rows x 3 columns]"
      ]
     },
     "execution_count": 11,
     "metadata": {},
     "output_type": "execute_result"
    }
   ],
   "source": [
    "'''\n",
    "sciNameID: Core ID - col 4\n",
    "sciName: skip - col 3\n",
    "associateSciName: scientificName - col 0\n",
    "associateSciNameID: relatedResourceID - col 1\n",
    "relationshipOfAssociate: relationsipOfResource - col 2\n",
    "'''\n",
    "\n",
    "associates_list = []\n",
    "for section in doc.iterfind('section'):\n",
    "    scientificName1 = section.findtext('crop/sci')\n",
    "    for pest in section.iterfind('pest'):\n",
    "        scientificName2 = pest.findtext('sci')\n",
    "        associates_list.append({'sciNameID': get_ID(scientificName1),\n",
    "                                'sciName': scientificName1, \n",
    "                                'associateSciNameID': get_ID(scientificName2),\n",
    "                                'associateSciName': scientificName2,\n",
    "                                'relationshipOfAssociate': 'host plant of',\n",
    "                               })\n",
    "        associates_list.append({'sciNameID': get_ID(scientificName2),\n",
    "                                'sciName': scientificName2, \n",
    "                                'associateSciNameID': get_ID(scientificName1),\n",
    "                                'associateSciName': scientificName1,\n",
    "                                'relationshipOfAssociate': 'herbivore of'\n",
    "                               })\n",
    "\n",
    "df_associates = pd.DataFrame(associates_list)\n",
    "df_associates = df_associates.drop_duplicates()\n",
    "df_associates = df_associates[['sciNameID', 'relationshipOfAssociate', 'associateSciNameID']]\n",
    "df_associates"
   ]
  },
  {
   "cell_type": "markdown",
   "metadata": {},
   "source": [
    "### Save Data Frames as CSV Files"
   ]
  },
  {
   "cell_type": "code",
   "execution_count": 12,
   "metadata": {
    "collapsed": false
   },
   "outputs": [],
   "source": [
    "import os\n",
    "\n",
    "if not os.path.exists('dwca'):\n",
    "    os.makedirs('dwca')\n",
    "df_taxon.to_csv('dwca/taxon.csv', index=False)\n",
    "df_dist.to_csv('dwca/distribution.csv', index=False)\n",
    "df_vernacular.to_csv('dwca/vernacular.csv', index=False)\n",
    "df_associates.to_csv('dwca/associates.csv', index=False)"
   ]
  },
  {
   "cell_type": "markdown",
   "metadata": {
    "collapsed": false
   },
   "source": [
    "### Create Darwin Core Archive\n",
    "The archive, **dwca**, can be validated at http://tools.gbif.org/dwca-validator/"
   ]
  },
  {
   "cell_type": "code",
   "execution_count": 13,
   "metadata": {
    "collapsed": false
   },
   "outputs": [
    {
     "name": "stdout",
     "output_type": "stream",
     "text": [
      "updating: dwca/ (stored 0%)\r\n",
      "updating: dwca/taxon.csv (deflated 54%)\r\n",
      "updating: dwca/distribution.csv (deflated 80%)\r\n",
      "updating: dwca/associates.csv (deflated 89%)\r\n",
      "updating: dwca/vernacular.csv (deflated 46%)\r\n",
      "updating: dwca/meta.xml (deflated 76%)\r\n"
     ]
    }
   ],
   "source": [
    "!zip -r dwca.zip dwca"
   ]
  },
  {
   "cell_type": "code",
   "execution_count": null,
   "metadata": {
    "collapsed": true
   },
   "outputs": [],
   "source": []
  }
 ],
 "metadata": {
  "kernelspec": {
   "display_name": "Python 3",
   "language": "python",
   "name": "python3"
  },
  "language_info": {
   "codemirror_mode": {
    "name": "ipython",
    "version": 3
   },
   "file_extension": ".py",
   "mimetype": "text/x-python",
   "name": "python",
   "nbconvert_exporter": "python",
   "pygments_lexer": "ipython3",
   "version": "3.5.2"
  }
 },
 "nbformat": 4,
 "nbformat_minor": 0
}
