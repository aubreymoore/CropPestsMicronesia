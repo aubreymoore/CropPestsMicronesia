{
 "cells": [
  {
   "cell_type": "code",
   "execution_count": 32,
   "metadata": {
    "collapsed": false
   },
   "outputs": [
    {
     "data": {
      "text/plain": [
       "'Asterolecanium coronatum|Nysius pulchellus|Brachyplatys insularis|Artocarpus altiiis|Rhabdosculus asperipennis Fairmaire 1878|Swezeyia zephyrus|Protalabrella brasiliensis|Karnyothrips melaleucus|Trigonops hirsuta|Trigonops inusitata|Aulacophora flavomarginata|Henosepilachna vigintisexpunctata|Chloriona formosella|Grammodes geometrica|Oxycephala spaethi|Batrachomorphus atrifrons|Trissodoris guamensis|Nanyozo viridilineatus Kono, 1942|Psara hipponalis|Trigonops vulgaris|Psophocarpus tetragonolobus'"
      ]
     },
     "execution_count": 32,
     "metadata": {},
     "output_type": "execute_result"
    }
   ],
   "source": [
    "filename = 'unknown names.md'\n",
    "file = open(filename, 'r')\n",
    "\n",
    "count = 0\n",
    "s = ''\n",
    "for line in file:\n",
    "    if line.startswith('**edited_name:**'):\n",
    "        line = line.replace('**edited_name:** *', '')\n",
    "        line = line.replace('*', '')\n",
    "        s += '{}|'.format(line)\n",
    "        count += 1\n",
    "s = s.replace('\\n', '')\n",
    "s = s[:-1]\n",
    "s"
   ]
  },
  {
   "cell_type": "code",
   "execution_count": 35,
   "metadata": {
    "collapsed": true
   },
   "outputs": [],
   "source": [
    "from datetime import datetime\n",
    "\n",
    "def timestamp():\n",
    "    return datetime.now().strftime(\"%Y%m%d-%H%M%S\")\n",
    "    \n",
    "#timestamp()"
   ]
  },
  {
   "cell_type": "code",
   "execution_count": 38,
   "metadata": {
    "collapsed": false
   },
   "outputs": [
    {
     "name": "stdout",
     "output_type": "stream",
     "text": [
      "Results written to \"resolved_names_20161225-190547.json\".\n"
     ]
    }
   ],
   "source": [
    "import requests\n",
    "import json\n",
    "\n",
    "params = {'names': s, \n",
    "          'preferred_data_sources': '11', \n",
    "          'best_match_only': 'true',\n",
    "          'with_context': 'true',\n",
    "          'with_canonical_ranks': 'false'\n",
    "         }\n",
    "url = 'http://resolver.globalnames.org/name_resolvers.json'\n",
    "r = requests.post(url, params)\n",
    "file_name = 'resolved_names_{}.json'.format(timestamp())\n",
    "resolved_names_json = r.json()\n",
    "json.dump(resolved_names_json, open(file_name,'w'), indent=2)\n",
    "print('Results written to \"{}\".'.format(file_name))"
   ]
  },
  {
   "cell_type": "code",
   "execution_count": null,
   "metadata": {
    "collapsed": true
   },
   "outputs": [],
   "source": []
  }
 ],
 "metadata": {
  "kernelspec": {
   "display_name": "Python 3",
   "language": "python",
   "name": "python3"
  },
  "language_info": {
   "codemirror_mode": {
    "name": "ipython",
    "version": 3
   },
   "file_extension": ".py",
   "mimetype": "text/x-python",
   "name": "python",
   "nbconvert_exporter": "python",
   "pygments_lexer": "ipython3",
   "version": "3.5.2"
  }
 },
 "nbformat": 4,
 "nbformat_minor": 0
}
